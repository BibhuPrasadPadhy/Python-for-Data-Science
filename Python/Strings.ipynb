{
 "cells": [
  {
   "cell_type": "code",
   "execution_count": 3,
   "id": "d5b39753",
   "metadata": {},
   "outputs": [
    {
     "name": "stdout",
     "output_type": "stream",
     "text": [
      "19\n",
      "The name is dada\n",
      "16\n"
     ]
    }
   ],
   "source": [
    "my_str = \"The name is dada   \"\n",
    "print(len(my_str))\n",
    "print(my_str.rstrip())\n",
    "print(len(my_str.rstrip()))"
   ]
  },
  {
   "cell_type": "code",
   "execution_count": 4,
   "id": "4d94a675",
   "metadata": {},
   "outputs": [
    {
     "name": "stdout",
     "output_type": "stream",
     "text": [
      "20\n",
      "The name is dada   \n",
      "20\n"
     ]
    }
   ],
   "source": [
    "my_str = \"The name is dada   %\"\n",
    "print(len(my_str))\n",
    "print(my_str.rstrip('%'))\n",
    "print(len(my_str.rstrip()))"
   ]
  },
  {
   "cell_type": "code",
   "execution_count": 6,
   "id": "59a953b6",
   "metadata": {},
   "outputs": [
    {
     "name": "stdout",
     "output_type": "stream",
     "text": [
      "The name is Bibhu\n",
      "   The name is Bibhu\n"
     ]
    }
   ],
   "source": [
    "my_str = \"   The name is Bibhu\"\n",
    "print(my_str.lstrip())\n",
    "print(my_str)"
   ]
  },
  {
   "cell_type": "code",
   "execution_count": 7,
   "id": "703aaf72",
   "metadata": {},
   "outputs": [
    {
     "name": "stdout",
     "output_type": "stream",
     "text": [
      "The name is Bibhu\n",
      "*The name is Bibhu#\n"
     ]
    }
   ],
   "source": [
    "my_str = \"*The name is Bibhu#\"\n",
    "print(my_str.lstrip('*').rstrip('#'))\n",
    "print(my_str)"
   ]
  },
  {
   "cell_type": "code",
   "execution_count": null,
   "id": "3ac39ac0",
   "metadata": {},
   "outputs": [],
   "source": []
  }
 ],
 "metadata": {
  "kernelspec": {
   "display_name": "Python 3 (ipykernel)",
   "language": "python",
   "name": "python3"
  },
  "language_info": {
   "codemirror_mode": {
    "name": "ipython",
    "version": 3
   },
   "file_extension": ".py",
   "mimetype": "text/x-python",
   "name": "python",
   "nbconvert_exporter": "python",
   "pygments_lexer": "ipython3",
   "version": "3.9.5"
  }
 },
 "nbformat": 4,
 "nbformat_minor": 5
}
