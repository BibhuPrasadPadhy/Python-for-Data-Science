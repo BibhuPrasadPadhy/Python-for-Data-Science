{
 "cells": [
  {
   "cell_type": "code",
   "execution_count": null,
   "metadata": {},
   "outputs": [],
   "source": [
    "#Basic_Data_Types_Lists\n",
    "\n",
    "n = int(input())\n",
    "list1 = []\n",
    "for i in range(n):\n",
    "    cmd = list(input().split())\n",
    "\n",
    "    if cmd[0] == 'insert':\n",
    "        list1.insert(int(cmd[1]),int(cmd[2]))\n",
    "    elif cmd[0] == 'print':\n",
    "        print(list1)\n",
    "    elif cmd[0] == 'remove':\n",
    "        list1.remove(int(cmd[1]))\n",
    "    elif cmd[0] == 'append':\n",
    "        list1.append(int(cmd[1]))\n",
    "    elif cmd[0] == 'sort':\n",
    "        list1.sort()\n",
    "    elif cmd[0] == 'pop':\n",
    "        list1.pop()\n",
    "    elif cmd[0] == 'reverse':\n",
    "        list1.reverse()\n"
   ]
  },
  {
   "cell_type": "code",
   "execution_count": 1,
   "metadata": {},
   "outputs": [
    {
     "name": "stdout",
     "output_type": "stream",
     "text": [
      "1\n",
      "1\n",
      "1\n",
      "2\n",
      "[[0, 0, 0], [0, 0, 1], [0, 1, 0], [1, 0, 0], [1, 1, 1]]\n"
     ]
    }
   ],
   "source": [
    "#Basic_Data_Types_List_Comprehension\n",
    "\n",
    "if __name__ == '__main__':\n",
    "    x = int(input())\n",
    "    y = int(input())\n",
    "    z = int(input())\n",
    "    n = int(input())\n",
    "\n",
    "    p = [[i,j,k] for i in range(x+1) for j in range(y+1) for k in range (z+1) if (i+j+k)!=n ]\n",
    "    print(p)"
   ]
  },
  {
   "cell_type": "code",
   "execution_count": null,
   "metadata": {},
   "outputs": [],
   "source": [
    "#Nested_Lists\n",
    "if __name__ == '__main__':\n",
    "    a = []\n",
    "    for _ in range(int(input())):\n",
    "        name = input()\n",
    "        score = float(input())\n",
    "        a.append([name,score])\n",
    "    \n",
    "    score_sorted = sorted(set(x[1] for x in a))\n",
    "    #print(score_sorted)\n",
    "    c = []\n",
    "    for i in range(len(a)):\n",
    "        if a[i][1] == score_sorted[1]:\n",
    "            c.append(a[i][0])\n",
    "    d = sorted(c)\n",
    "    for i in d:\n",
    "        print(i)\n"
   ]
  },
  {
   "cell_type": "code",
   "execution_count": null,
   "metadata": {},
   "outputs": [],
   "source": [
    "#Find The Runner's Up\n",
    "\n",
    "if __name__ == '__main__':\n",
    "    n = int(input())\n",
    "    arr = map(int, input().split())\n",
    "\n",
    "    sorts = sorted(set(arr))\n",
    "    print(sorts[-2])"
   ]
  },
  {
   "cell_type": "code",
   "execution_count": null,
   "metadata": {},
   "outputs": [],
   "source": [
    "#Tuples\n",
    "\n",
    "if __name__ == '__main__':\n",
    "    n = int(input())\n",
    "    integer_list = map(int, input().split())\n",
    "    t = tuple(integer_list)\n",
    "    print(hash(t))"
   ]
  },
  {
   "cell_type": "code",
   "execution_count": null,
   "metadata": {},
   "outputs": [],
   "source": [
    "#Finding the Percentage\n",
    "\n",
    "if __name__ == '__main__':\n",
    "    n = int(input())\n",
    "    student_marks = {}\n",
    "    for _ in range(n):\n",
    "        name, *line = input().split()\n",
    "        scores = list(map(float, line))\n",
    "        student_marks[name] = scores\n",
    "    query_name = input()\n",
    "\n",
    "    length = len(student_marks[query_name])\n",
    "    total = 0\n",
    "    for i in student_marks[query_name]:\n",
    "        total+= i\n",
    "    avg = total/length\n",
    "    #print(avg)\n",
    "    print(\"{0:.2f}\".format(avg))\n",
    "        "
   ]
  }
 ],
 "metadata": {
  "kernelspec": {
   "display_name": "Python 3",
   "language": "python",
   "name": "python3"
  },
  "language_info": {
   "codemirror_mode": {
    "name": "ipython",
    "version": 3
   },
   "file_extension": ".py",
   "mimetype": "text/x-python",
   "name": "python",
   "nbconvert_exporter": "python",
   "pygments_lexer": "ipython3",
   "version": "3.7.3"
  }
 },
 "nbformat": 4,
 "nbformat_minor": 2
}
