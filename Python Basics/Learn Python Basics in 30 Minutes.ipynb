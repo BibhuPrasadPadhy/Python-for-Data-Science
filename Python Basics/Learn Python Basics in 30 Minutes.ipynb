{
 "cells": [
  {
   "cell_type": "code",
   "execution_count": 19,
   "metadata": {},
   "outputs": [
    {
     "name": "stdout",
     "output_type": "stream",
     "text": [
      "Hello World\n",
      "Bibhu\n",
      "\n",
      "5+2 = 7\n",
      "5-2 = 3\n",
      "5*2 = 10\n",
      "5/2 = 7\n",
      "5//2 = 2\n",
      "5**2 = 25\n",
      "5%2 = 1\n",
      " I am  #Multi line string\n",
      "god\n",
      " I am god ,powerfull & Generous\n",
      " I am god  I am Bibhu\n",
      "\n",
      "\n",
      "\n",
      "\n",
      "\n",
      "\n"
     ]
    }
   ],
   "source": [
    "import os  #To import os module\n",
    "import sys #To import sys module\n",
    "import random #To import random module\n",
    "\n",
    "#First program --> Single line comment starts with # and multiline comment is enclosed within ''' '''\n",
    "print('Hello World')\n",
    "\n",
    "name = 'Bibhu'  #String can be defined using single quotes '' or double quotes \"\" or multiline string as ''' '''\n",
    "print(name)     #Variables can contain only alphabets or numbers or '_' and no other special character. And the name can only start with '_' or \n",
    "name = 15       #Python is a dynamically typed language as you can see we can use the same variable to assign a string and number \n",
    "\n",
    "#Data Types in Python : Numbers Strings Lists Tuples Dictonaries Set\n",
    "\n",
    "#Python as a calculator\n",
    "print('\\n5+2 =',5+2)  #Addition\n",
    "print('5-2 =',5-2)  #Subtraction\n",
    "print('5*2 =',5*2)  #Multiplication\n",
    "print('5/2 =',5+2)  #Division\n",
    "print('5//2 =',5//2)#Floor Division\n",
    "print('5**2 =',5**2)#Power,Ex: Number**power\n",
    "print('5%2 =',5%2)  #Modulus \n",
    "\n",
    "#Python String Operations\n",
    "\n",
    "a = ''' I am  #Multi line string\n",
    "god'''\n",
    "print(a)\n",
    "b = ',powerfull'\n",
    "c = '& Generous'\n",
    "print(' I am god',b,c)       #Print multiple values as multiple arguments\n",
    "print(' I am god',end=\" \")   #Prints I am god and adds a space at the end\n",
    "print(' I am Bibhu',end='\\n')#Prints I am Bibhu and adds a new line at the end\n",
    "print('\\n'*5)                #Prints 5 new lines"
   ]
  },
  {
   "cell_type": "code",
   "execution_count": 37,
   "metadata": {},
   "outputs": [
    {
     "name": "stdout",
     "output_type": "stream",
     "text": [
      "The First item is: Juice\n",
      "\n",
      "\n",
      "The First item is: Cold Drink\n",
      "['Banana', 'Refined Oil']\n",
      "\n",
      "\n",
      "[['Cold Drink', 'Banana', 'Refined Oil', 'Potatoes', 'Milk'], ['Wash Car', 'Eat Dinner', 'Talk with gf']]\n",
      "Refined Oil\n",
      "\n",
      "\n",
      "['Cold Drink', 'Banana', 'Refined Oil', 'Potatoes', 'Milk', 'Detergent']\n",
      "[['Cold Drink', 'Banana', 'Refined Oil', 'Potatoes', 'Milk', 'Detergent'], ['Wash Car', 'Eat Dinner', 'Talk with gf']]\n",
      "\n",
      "\n",
      "['Cold Drink', 'Pickle', 'Banana', 'Refined Oil', 'Potatoes', 'Milk', 'Detergent']\n",
      "[['Cold Drink', 'Pickle', 'Banana', 'Refined Oil', 'Potatoes', 'Milk', 'Detergent'], ['Wash Car', 'Eat Dinner', 'Talk with gf']]\n",
      "\n",
      "\n",
      "['Cold Drink', 'Banana', 'Refined Oil', 'Potatoes', 'Milk', 'Detergent']\n",
      "[['Cold Drink', 'Banana', 'Refined Oil', 'Potatoes', 'Milk', 'Detergent'], ['Wash Car', 'Eat Dinner', 'Talk with gf']]\n",
      "\n",
      "\n",
      "['Banana', 'Cold Drink', 'Detergent', 'Milk', 'Potatoes', 'Refined Oil']\n",
      "[['Banana', 'Cold Drink', 'Detergent', 'Milk', 'Potatoes', 'Refined Oil'], ['Wash Car', 'Eat Dinner', 'Talk with gf']]\n",
      "\n",
      "\n",
      "['Banana', 'Cold Drink', 'Detergent', 'Milk', 'Refined Oil']\n",
      "[['Banana', 'Cold Drink', 'Detergent', 'Milk', 'Refined Oil'], ['Wash Car', 'Eat Dinner', 'Talk with gf']]\n",
      "\n",
      "\n",
      "Refined Oil\n",
      "Banana\n",
      "5\n"
     ]
    }
   ],
   "source": [
    "#Lists in Python\n",
    "\n",
    "grocery_list = ['Juice','Banana','Refined Oil','Potatoes','Milk'] #List declaration\n",
    "print('The First item is:',grocery_list[0])\n",
    "print('\\n')\n",
    "\n",
    "grocery_list[0] = 'Cold Drink'\n",
    "print('The First item is:',grocery_list[0])\n",
    "print(grocery_list[1:3])\n",
    "print('\\n')\n",
    "\n",
    "other_events = ['Wash Car','Eat Dinner','Talk with gf']\n",
    "to_do_list = [grocery_list,other_events]\n",
    "print(to_do_list)\n",
    "print(to_do_list[0][2])\n",
    "print('\\n')\n",
    "\n",
    "grocery_list.append('Detergent')\n",
    "print(grocery_list)\n",
    "print(to_do_list)\n",
    "print('\\n')\n",
    "\n",
    "grocery_list.insert(1,'Pickle')\n",
    "print(grocery_list)\n",
    "print(to_do_list)\n",
    "print('\\n')\n",
    "\n",
    "grocery_list.remove('Pickle')\n",
    "print(grocery_list)\n",
    "print(to_do_list)\n",
    "print('\\n')\n",
    "\n",
    "grocery_list.sort()\n",
    "print(grocery_list)\n",
    "print(to_do_list)\n",
    "print('\\n')\n",
    "\n",
    "del(grocery_list[4])\n",
    "print(grocery_list)\n",
    "print(to_do_list)\n",
    "print('\\n')\n",
    "\n",
    "print(max(grocery_list))\n",
    "print(min(grocery_list))\n",
    "print(len(grocery_list))"
   ]
  },
  {
   "cell_type": "code",
   "execution_count": 41,
   "metadata": {},
   "outputs": [
    {
     "name": "stdout",
     "output_type": "stream",
     "text": [
      "<class 'tuple'>\n",
      "<class 'list'>\n",
      "(1, 3, 3, 4, 5)\n",
      "5\n",
      "1\n"
     ]
    }
   ],
   "source": [
    "#Tuples in Python\n",
    "\n",
    "tup = (1,2,3,4,5)# The way to declare a tuple. It is just like a list but the content can't be changed or unmutable.\n",
    "print(type(tup))\n",
    "#tup[1] = 3    'tuple' object does not support item assignment\n",
    "\n",
    "li_tup = list(tup)\n",
    "print(type(li_tup))\n",
    "li_tup[1] = 3\n",
    "\n",
    "tup = tuple(li_tup)\n",
    "print(tup)\n",
    "\n",
    "print(max(tup))\n",
    "print(min(tup))\n"
   ]
  },
  {
   "cell_type": "code",
   "execution_count": 53,
   "metadata": {},
   "outputs": [
    {
     "name": "stdout",
     "output_type": "stream",
     "text": [
      "{'Bibhu': 12, 'Raman': 15, 'Suman': 18, 'Shivany': 143}\n",
      "12\n",
      "123\n",
      "{'Bibhu': 123, 'Raman': 15, 'Suman': 18, 'Shivany': 143}\n",
      "\n",
      "\n",
      "{'Name': {'First Name': ['Bibhu', 'Shivany', 'Suman', 'Raman'], 'Last Name': ['Padhy', 'Tripathy', 'Kumar', 'Joshi']}, 'Roll Number': [12, 13, 14, 15]}\n",
      "['Bibhu', 'Shivany', 'Suman', 'Raman'] ['Padhy', 'Tripathy', 'Kumar', 'Joshi'] [12, 13, 14, 15]\n"
     ]
    },
    {
     "data": {
      "text/plain": [
       "dict_values([['Bibhu', 'Shivany', 'Suman', 'Raman'], ['Padhy', 'Tripathy', 'Kumar', 'Joshi']])"
      ]
     },
     "execution_count": 53,
     "metadata": {},
     "output_type": "execute_result"
    }
   ],
   "source": [
    "#Dictionaries in Python \n",
    "\n",
    "a = {'Bibhu':12,'Raman':15,'Suman':18,'Shivany':143} #Key:value Pairs way to declare a dictionary\n",
    "print(a)\n",
    "print(a['Bibhu']) #Indexing in dictionaries/Map\n",
    "a['Bibhu'] = 123  #Assignment in dictionaries\n",
    "print(a['Bibhu']) \n",
    "print(a)\n",
    "\n",
    "#Nested Dictionaries\n",
    "print('\\n')\n",
    "a = {'Name':{'First Name':['Bibhu','Shivany','Suman','Raman'],'Last Name':['Padhy','Tripathy','Kumar','Joshi']},'Roll Number':[12,13,14,15]}\n",
    "print(a)\n",
    "print(a['Name']['First Name'],a['Name']['Last Name'],a['Roll Number'])\n",
    "\n",
    "a.keys()\n",
    "a['Name'].keys()\n",
    "\n",
    "a.values()\n",
    "a['Name'].values()"
   ]
  },
  {
   "cell_type": "code",
   "execution_count": 54,
   "metadata": {},
   "outputs": [
    {
     "name": "stdout",
     "output_type": "stream",
     "text": [
      "[1, 2, 3, 4, 5, 10, 8, 7, 7, 3, 2, 1]\n",
      "{1, 2, 3, 4, 5, 7, 8, 10}\n"
     ]
    }
   ],
   "source": [
    "#Sets in python\n",
    "\n",
    "a = [1,2,3,4,5,10,8,7,7,3,2,1]\n",
    "print(a)\n",
    "a = set(a) #Set removes all the duplicate values and sorts the list in ascending order by default\n",
    "print(a)"
   ]
  },
  {
   "cell_type": "code",
   "execution_count": 62,
   "metadata": {},
   "outputs": [
    {
     "name": "stdout",
     "output_type": "stream",
     "text": [
      "0 2 4 6 8 \n",
      "\n",
      "* \n",
      "\n",
      "* * \n",
      "\n",
      "* * * \n",
      "\n",
      "* * * * \n",
      "\n",
      "\n",
      "\n",
      "\n",
      "\n",
      "1 2 3 5 222 4424 a Bibhu "
     ]
    }
   ],
   "source": [
    "#For loop\n",
    "\n",
    "for i in range(0,9,2):\n",
    "    print(i,end=' ')\n",
    "print('\\n')\n",
    "n=5\n",
    "for i in range(1,n,1):\n",
    "    for j in range(1,i+1):\n",
    "        print('*',end=' ')\n",
    "    print('\\n')\n",
    "\n",
    "print('\\n'*3)\n",
    "a = [1,2,3,5,222,4424,'a','Bibhu']\n",
    "for i in a:\n",
    "    print(i,end=' ')\n"
   ]
  },
  {
   "cell_type": "code",
   "execution_count": 63,
   "metadata": {},
   "outputs": [
    {
     "name": "stdout",
     "output_type": "stream",
     "text": [
      "0\n",
      "1\n",
      "2\n",
      "3\n",
      "4\n"
     ]
    }
   ],
   "source": [
    "#While loop\n",
    "i=0\n",
    "a=5\n",
    "while(i<a):\n",
    "    print(i)\n",
    "    i=i+1"
   ]
  },
  {
   "cell_type": "code",
   "execution_count": 65,
   "metadata": {},
   "outputs": [
    {
     "name": "stdout",
     "output_type": "stream",
     "text": [
      "Enter your age:23\n",
      "I am God\n"
     ]
    }
   ],
   "source": [
    "#if else \n",
    "\n",
    "age = int(input('Enter your age:'))\n",
    "if age > 21:\n",
    "    print('I am God')\n",
    "elif age <20:\n",
    "    print('I am Dog')\n",
    "else:\n",
    "    print('I am everyone|')"
   ]
  },
  {
   "cell_type": "code",
   "execution_count": 72,
   "metadata": {},
   "outputs": [
    {
     "name": "stdout",
     "output_type": "stream",
     "text": [
      "5\n"
     ]
    }
   ],
   "source": [
    "#Functions \n",
    "def sum(a,b):\n",
    "        return(a+b)\n",
    "    \n",
    "if __name__ == '__main__':\n",
    "    c=sum(2,3)\n",
    "    print(c)    "
   ]
  },
  {
   "cell_type": "code",
   "execution_count": null,
   "metadata": {},
   "outputs": [],
   "source": []
  }
 ],
 "metadata": {
  "kernelspec": {
   "display_name": "Python 3",
   "language": "python",
   "name": "python3"
  },
  "language_info": {
   "codemirror_mode": {
    "name": "ipython",
    "version": 3
   },
   "file_extension": ".py",
   "mimetype": "text/x-python",
   "name": "python",
   "nbconvert_exporter": "python",
   "pygments_lexer": "ipython3",
   "version": "3.6.5"
  }
 },
 "nbformat": 4,
 "nbformat_minor": 2
}
